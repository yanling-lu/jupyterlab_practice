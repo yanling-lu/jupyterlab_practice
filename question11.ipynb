{
 "cells": [
  {
   "cell_type": "markdown",
   "id": "e1089e6f-7072-469c-8921-1d38aa6c0566",
   "metadata": {},
   "source": [
    "# Yan-Ling\n",
    "Notebook for Assignment 7."
   ]
  },
  {
   "cell_type": "code",
   "execution_count": 1,
   "id": "8cf6665f-86fd-4a7d-87a8-1becc5fa64b0",
   "metadata": {},
   "outputs": [
    {
     "name": "stdout",
     "output_type": "stream",
     "text": [
      "5.0\n"
     ]
    }
   ],
   "source": [
    "#create the function\n",
    "def compute_mean(numbers):\n",
    "    mean = mean = sum(numbers) / len(numbers)\n",
    "    print(mean)\n",
    "    return\n",
    "\n",
    "#call the function with a list\n",
    "compute_mean([2, 4, 6, 8])\n"
   ]
  },
  {
   "cell_type": "markdown",
   "id": "372227d6-bebf-4f5e-b31b-220d317f6ed2",
   "metadata": {},
   "source": [
    "The function computes the mean of the values in a list and prints the results. The mean is calculated by adding up all the numbers in a list and dividing it by the count of the list (aka how many numbers are in the list). \n",
    "\n",
    "The equation in Latex is the following: \n",
    "\n",
    "$$\n",
    "\\bar{x}= \\frac{x_{1}+x_{2}+\\cdots+x_{n}}{n}=\\frac{1}{n}\\Bigg( \\sum _{i=1}^{n}x_{i} \\Bigg )\n",
    "$$\n",
    "\n"
   ]
  },
  {
   "cell_type": "code",
   "execution_count": null,
   "id": "11c5709f-41c4-4597-85a9-f87b8f560c03",
   "metadata": {},
   "outputs": [],
   "source": []
  }
 ],
 "metadata": {
  "kernelspec": {
   "display_name": "Python [conda env:practice_env]",
   "language": "python",
   "name": "conda-env-practice_env-py"
  },
  "language_info": {
   "codemirror_mode": {
    "name": "ipython",
    "version": 3
   },
   "file_extension": ".py",
   "mimetype": "text/x-python",
   "name": "python",
   "nbconvert_exporter": "python",
   "pygments_lexer": "ipython3",
   "version": "3.12.5"
  }
 },
 "nbformat": 4,
 "nbformat_minor": 5
}
